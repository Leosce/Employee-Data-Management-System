{
 "cells": [
  {
   "cell_type": "code",
   "execution_count": 175,
   "id": "5599a92b-e023-4e5a-b696-8a3efc323afe",
   "metadata": {},
   "outputs": [],
   "source": [
    "import re\n",
    "import csv\n",
    "class Employee:\n",
    "\n",
    "    #list for every field in the database.\n",
    "    emp_list=[]\n",
    "    ID_list=[]\n",
    "    pos_list=['CEO','CFO','COO','MM','HR','SWE','DS','ML']\n",
    "    sal_list=[]\n",
    "    mail_list=[]\n",
    "    emp_pos_list=[]\n",
    "    fields=['ID','Name','Position','Salary','Email']\n",
    "\n",
    "    \n",
    "    def __init__(self,ID,Name,Position,Salary,Email):\n",
    "             \n",
    "        ID=Employee.ID_handle(self,ID)   #make sure the ID entered is numeric and isn't already taken. if not, a different ID replaces the original.\n",
    "        self.__ID=ID\n",
    "    \n",
    "        Name=Employee.name_handle(self,Name) #make sure the Name entered is valid. if not, a different Name replaces the original.\n",
    "        self.Name=Name\n",
    "            \n",
    "        Position=Employee.position_handle(self,Position) #make sure the Position entered is in the position list. if not, a different Position replaces the original.\n",
    "        self.Position=Position\n",
    "        \n",
    "        Salary=Employee.salary_handle(self,Salary) #make sure the Salary entered is a numeric value. if not, a different Salary replaces the original.\n",
    "        self.__Salary=Salary\n",
    "\n",
    "        Email=Employee.email_handle(self,Email) #make sure the Email entered is valid and not already registered on the system. if not, a different Email replaces the original.\n",
    "        self.__Email=Email\n",
    "\n",
    "        #append the lists with user input for later access.\n",
    "        Employee.ID_list.append(self.__ID)\n",
    "        Employee.emp_list.append(self.Name)\n",
    "        Employee.emp_pos_list.append(self.Position)\n",
    "        Employee.sal_list.append(self.__Salary)\n",
    "        Employee.mail_list.append(self.__Email)\n",
    "        EmployeeManager.save_to_csv()\n",
    "        Employee.menu(self)\n",
    "\n",
    "# Exception Handling:\n",
    "    def ID_handle(self,id):\n",
    "        while True:\n",
    "            try:\n",
    "                id=int(id)\n",
    "                if id in Employee.ID_list:\n",
    "                    print('ID already exists.')\n",
    "                    id=input('Please enter a valid ID: ')\n",
    "                else:\n",
    "                    return id\n",
    "            except ValueError:\n",
    "                print('ID is invalid. ')\n",
    "                id=input('Please enter a valid ID: ')\n",
    "    \n",
    "    \n",
    "    def name_handle(self,name):\n",
    "        while True:\n",
    "                try:\n",
    "                    # name=input(\"Please enter a valid name: \")\n",
    "                    int(name)\n",
    "                    name=input(\"Please enter a valid name: \")\n",
    "                except(ValueError):\n",
    "                    return name\n",
    "\n",
    "    def position_handle(self,position):\n",
    "        while True:\n",
    "            try:\n",
    "                position=position.upper()\n",
    "                if(position not in Employee.pos_list):\n",
    "                    print(\"This position doesn't exist.\")\n",
    "                    position=input(\"Please enter a valid position: \")\n",
    "                else:\n",
    "                    return position\n",
    "            except AttributeError:\n",
    "                print('Please enter string format input.')\n",
    "                position=input(\"Please enter a valid position: \")\n",
    "\n",
    "    def email_handle(self,email):\n",
    "        while True:\n",
    "            try:\n",
    "                pattern = r\"^[a-zA-Z0-9._%+-]+@[a-zA-Z0-9.-]+\\.[a-zA-Z]{2,}$\"\n",
    "                if re.match(pattern, email) is not None and email not in Employee.mail_list:\n",
    "                    return email\n",
    "                else:\n",
    "                    if email in Employee.mail_list:\n",
    "                        print('Email already exists.')\n",
    "                        email= input('Please enter a valid email: ')\n",
    "                        continue\n",
    "                    print('Email is not valid, try again.')\n",
    "                    email= input('Please enter a valid email: ')\n",
    "            except TypeError:\n",
    "                print('Please enter string format input.')\n",
    "                email= input('Please enter a valid email: ')\n",
    "\n",
    "    def salary_handle(self,salary):\n",
    "        while True:\n",
    "                try:\n",
    "                    if(type(salary)==str and salary[-1].upper()=='K'):\n",
    "                        return salary\n",
    "                    salary=int(salary)\n",
    "                    if salary<1000:\n",
    "                        salary=f'{salary}K'\n",
    "                    return salary\n",
    "                except(ValueError):\n",
    "                    print(\"Please enter standard numeric values or numeric values ending with 'k' only.\")\n",
    "                    salary=input('Please enter a valid salary: ')\n",
    "\n",
    "\n",
    "#class methods:\n",
    "    \n",
    "    def get_ID(self):\n",
    "        return self.__ID\n",
    "        \n",
    "    def get_Salary(self):\n",
    "        return self.__Salary\n",
    "    \n",
    "    def get_Email(self):\n",
    "        return self.__Email\n",
    "\n",
    "    def update_email(self):\n",
    "        i=Employee.ID_list.index(self.__ID)\n",
    "        new_email=input('Enter a valid email: ')\n",
    "        Employee.mail_list[i]=(Employee.email_handle(self,new_email))\n",
    "        print('Email has been updated.')\n",
    "        EmployeeManager.save_to_csv()\n",
    "        \n",
    "    #def display_public_info(self):\n",
    "    #display by list not self.\n",
    "    #    return self.Name,self.Position\n",
    "    \n",
    "    def display_all_info(self):\n",
    "        i=Employee.ID_list.index(self.__ID)\n",
    "        print( f\"ID: {Employee.ID_list[i]} \\nName: {Employee.emp_list[i]} \\nEmail: {Employee.mail_list[i]}\\nPosition: {Employee.emp_pos_list[i]} \\nSalary: {Employee.sal_list[i]} \\n\")\n",
    "    \n",
    "\n",
    "    def menu(self):\n",
    "        while True:\n",
    "            try:\n",
    "                print('\\nWhat would you like to do?')\n",
    "                print('1-Display my information.\\n2-Update my email.\\n3-Exit. \\n')\n",
    "                choice=int(input('Please enter a number corresponding to your choice: \\n'))\n",
    "            except ValueError:\n",
    "                print('Please enter a valid number.')\n",
    "    \n",
    "            if choice==1:\n",
    "                Employee.display_all_info(self)\n",
    "                \n",
    "            if choice==2:\n",
    "                Employee.update_email(self)\n",
    "    \n",
    "            if choice==3:\n",
    "                break\n",
    "\n",
    "\n",
    "class EmployeeManager(Employee):\n",
    "    @classmethod\n",
    "    def __init__(self):\n",
    "        EmployeeManager.menu(self) #call the menu method\n",
    "        \n",
    "#class methods:\n",
    "    @classmethod\n",
    "    def ID_checker(self,ID): #ID checker, checks if ID is valid or if it already exists and prompts the user for input if it needed.\n",
    "        while True:\n",
    "            try:\n",
    "                ID=int(ID)\n",
    "                if(ID in Employee.ID_list):\n",
    "                    self.ID=self.get_ID\n",
    "                    self.ID=ID\n",
    "                    self.i=Employee.ID_list.index(self.ID) \n",
    "                    break\n",
    "                else:\n",
    "                    ID=int(input(\"this employee ID doesn't exist, Please enter an existing employee ID: \"))\n",
    "                    \n",
    "            except(ValueError):\n",
    "                \n",
    "                print('This ID is invalid, Please try agian.')\n",
    "                ID=input('Please enter a valid ID:  ')\n",
    "    \n",
    "    @classmethod\n",
    "    def add_emp(self,id,name,pos,sal,mail):   # add an employee.\n",
    "        Employee(id,name,pos,sal,mail)\n",
    "        print('Employee added successfully, saving...') #user confirmation.\n",
    "        EmployeeManager.save_to_csv() #save changes to csv.\n",
    "        \n",
    "    @classmethod\n",
    "    def del_emp(self,ID):   # delete an employee, by giving the employee's ID\n",
    "            #remove employee from the lists.\n",
    "            EmployeeManager.ID_checker(ID) \n",
    "            Employee.emp_list.pop(self.i)\n",
    "            Employee.ID_list.pop(self.i)\n",
    "            Employee.mail_list.pop(self.i)\n",
    "            Employee.sal_list.pop(self.i)\n",
    "            Employee.emp_pos_list.pop(self.i)\n",
    "            print('Employee deleted successfully, saving...') #user confirmation.\n",
    "            EmployeeManager.save_to_csv() #save changes to csv.\n",
    " \n",
    "            \n",
    "    @classmethod \n",
    "    def list_all_emps(self):   # list all employees.\n",
    "        print(Employee.emp_list)\n",
    "        print(Employee.ID_list)\n",
    "        print(Employee.sal_list)\n",
    "        print(Employee.mail_list)\n",
    "        print(Employee.emp_pos_list)\n",
    "        \n",
    "    @classmethod\n",
    "    def search_emp(self,ID):   # search for information relation to an employee, given their ID.\n",
    "        EmployeeManager.ID_checker(ID)\n",
    "        print(f'Name: {Employee.emp_list[self.i]}') \n",
    "        print(f'ID: {Employee.ID_list[self.i]}')\n",
    "        print(f'Salary: {Employee.sal_list[self.i]}')\n",
    "        print(f'Email: {Employee.mail_list[self.i]}')\n",
    "        print(f'Position: {Employee.emp_pos_list[self.i]}')\n",
    "    \n",
    "    @classmethod\n",
    "    def update_emp(self,ID):   # update employees infromation.\n",
    "        EmployeeManager.ID_checker(ID)\n",
    "        upd=input(\"Please enter type the required fields to update. seperated by a comma or a space.\")\n",
    "        \n",
    "        if 'ID' in upd.upper():\n",
    "            while True:\n",
    "               try:\n",
    "                   new_id=int(input(\"Please enter the new ID: \"))\n",
    "                   if new_id in Employee.ID_list and new_id!=Employee.ID_list[self.i]:\n",
    "                       print(\"ID already exists, try again.\")\n",
    "                   else:\n",
    "                       Employee.ID_list[self.i]=new_id\n",
    "                       print('ID updated successfully.')\n",
    "                       break\n",
    "               except(ValueError):\n",
    "                   print('Invalid input, try again.')\n",
    "                   \n",
    "        if 'SALARY' in upd.upper():\n",
    "            new_salary=input('Enter a valid salary: ')\n",
    "            new_salary=Employee.salary_handle(self,new_salary)\n",
    "            Employee.sal_list[self.i]=new_salary\n",
    "            print('Salary updated successfully.')\n",
    "\n",
    "        if 'NAME' in upd.upper():\n",
    "            new_name=input('Enter a valid name: ')\n",
    "            new_name=Employee.name_handle(self,new_name)\n",
    "            Employee.emp_list[self.i]=new_name\n",
    "            print('Name updated successfully.')\n",
    "                    \n",
    "\n",
    "        if 'POSITION' in upd.upper():\n",
    "            new_position=input('Enter a valid position: ')\n",
    "            new_position=Employee.position_handle(self,new_position)\n",
    "            Employee.emp_pos_list[self.i]=new_position\n",
    "            print(\"Position updated successfully.\")\n",
    "            \n",
    "\n",
    "        if 'EMAIL' in upd.upper():\n",
    "            new_email=input('Enter a valid email: ')\n",
    "            new_email=Employee.email_handle(self,new_email)\n",
    "            Employee.mail_list[self.i]=new_email\n",
    "            print(\"Email updated successfully.\")\n",
    "        \n",
    "        EmployeeManager.save_to_csv()\n",
    "\n",
    "    @classmethod\n",
    "    def save_to_csv(self):   # save changes to csv.\n",
    "        with open('employee_data.csv','w',newline='') as csvfile:\n",
    "            csvwriter = csv.writer(csvfile)\n",
    "            csvwriter.writerow(Employee.fields)\n",
    "            \n",
    "        for i in range(len(Employee.ID_list)):\n",
    "            employee_list=[Employee.ID_list[i],Employee.emp_list[i],Employee.emp_pos_list[i],Employee.sal_list[i],Employee.mail_list[i]]\n",
    "            with open('employee_data.csv','a',newline='') as csvfile:\n",
    "                csvwriter=csv.writer(csvfile)\n",
    "                csvwriter.writerow(employee_list)\n",
    "        print('csv saved successfully.')\n",
    "\n",
    "    @classmethod\n",
    "    def load_from_csv(self):   # retrieve data from csv\n",
    "        Employee.ID_list=[]\n",
    "        Employee.emp_list=[]\n",
    "        Employee.emp_pos_list=[]\n",
    "        Employee.sal_list=[]\n",
    "        Employee.mail_list=[]\n",
    "        try:\n",
    "            with open('employee_data.csv',newline='') as csvfile:\n",
    "                csvreader=csv.reader(csvfile)\n",
    "                next(csvreader)\n",
    "                for row in csvreader:\n",
    "                    Employee.ID_list.append(int(row[0]))\n",
    "                    Employee.emp_list.append(row[1])\n",
    "                    Employee.emp_pos_list.append(row[2])\n",
    "                    Employee.sal_list.append(row[3])\n",
    "                    Employee.mail_list.append(row[4])\n",
    "                if len(Employee.ID_list) !=0:\n",
    "                    print('Data loaded successfully.')\n",
    "                else:\n",
    "                    print('csv file is empty.')\n",
    "                    \n",
    "        except FileNotFoundError:\n",
    "            print('csv file move or not found.')\n",
    "    \n",
    "    def menu(self):   # menu for user interface.\n",
    "        while True:\n",
    "            try:\n",
    "                print('\\nWhat would you like to do?\\n1-Add an employee.\\n2-Delete an employee.\\n3-List all employees.\\n4-Search for an employee.\\n5-Update an employee.\\n6-Save data to csv file.\\n7-Load from csv file.\\n8-Exist.\\n')\n",
    "                choice=int(input('Please enter a number corresponding to your choice: \\n'))\n",
    "            except ValueError:\n",
    "                print('Please enter a valid number.')\n",
    "                \n",
    "            if choice==1:\n",
    "                print('Please enter ID, Name, Position, Salary and Email for the employee.')\n",
    "                while True:\n",
    "                    try:\n",
    "                        ID=int(input('ID: '))\n",
    "                        break\n",
    "                    except ValueError:\n",
    "                        print('ID is invalid, please enter a valid ID. ')\n",
    "                Name=input('Name: ')\n",
    "                Position=input('Position: ')\n",
    "                Salary=input('Salary: ')\n",
    "                Email=input('Email: ')\n",
    "                EmployeeManager.add_emp(ID,Name,Position,Salary,Email)\n",
    "                \n",
    "            if choice==2:\n",
    "                ID=input('Please enter the ID of the employee you would like to delete: ')\n",
    "                EmployeeManager.del_emp(ID)\n",
    "                \n",
    "            if choice==3:\n",
    "               EmployeeManager.list_all_emps()\n",
    "\n",
    "            if choice==4:\n",
    "                ID=input('Please enter the ID of the employee you would like to search for: ')\n",
    "                EmployeeManager.search_emp(ID)\n",
    "\n",
    "            if choice==5:\n",
    "                ID=input('In order to update employees information, please enter an existing ID: ')\n",
    "                EmployeeManager.update_emp(ID)\n",
    "\n",
    "            if choice==6:\n",
    "                print('Saving...\\n')\n",
    "                EmployeeManager.save_to_csv()\n",
    "                \n",
    "            if choice==7:\n",
    "                print('Loading...\\n')\n",
    "                EmployeeManager.load_from_csv()\n",
    "\n",
    "            if choice==8:\n",
    "                break"
   ]
  },
  {
   "cell_type": "code",
   "execution_count": 177,
   "id": "41c045a2-acb3-4afd-962a-e4a7c04b1260",
   "metadata": {},
   "outputs": [
    {
     "name": "stdout",
     "output_type": "stream",
     "text": [
      "ID is invalid. \n"
     ]
    },
    {
     "name": "stdin",
     "output_type": "stream",
     "text": [
      "Please enter a valid ID:  12\n",
      "Please enter a valid name:  John\n"
     ]
    },
    {
     "name": "stdout",
     "output_type": "stream",
     "text": [
      "csv saved successfully.\n",
      "\n",
      "What would you like to do?\n",
      "1-Display my information.\n",
      "2-Update my email.\n",
      "3-Exit. \n",
      "\n"
     ]
    },
    {
     "name": "stdin",
     "output_type": "stream",
     "text": [
      "Please enter a number corresponding to your choice: \n",
      " 3\n"
     ]
    }
   ],
   "source": [
    "emp1=Employee('john',3.2,'Hr',34,'john123@gmail.com')"
   ]
  },
  {
   "cell_type": "code",
   "execution_count": 179,
   "id": "a08f4589-66a5-4be2-bb12-07f872a9cf33",
   "metadata": {},
   "outputs": [
    {
     "name": "stdout",
     "output_type": "stream",
     "text": [
      "ID already exists.\n"
     ]
    },
    {
     "name": "stdin",
     "output_type": "stream",
     "text": [
      "Please enter a valid ID:  13\n"
     ]
    },
    {
     "name": "stdout",
     "output_type": "stream",
     "text": [
      "csv saved successfully.\n",
      "\n",
      "What would you like to do?\n",
      "1-Display my information.\n",
      "2-Update my email.\n",
      "3-Exit. \n",
      "\n"
     ]
    },
    {
     "name": "stdin",
     "output_type": "stream",
     "text": [
      "Please enter a number corresponding to your choice: \n",
      " 1\n"
     ]
    },
    {
     "name": "stdout",
     "output_type": "stream",
     "text": [
      "ID: 13 \n",
      "Name: Baraa \n",
      "Email: baraaabusallout@gmail.com\n",
      "Position: DS \n",
      "Salary: 94K \n",
      "\n",
      "\n",
      "What would you like to do?\n",
      "1-Display my information.\n",
      "2-Update my email.\n",
      "3-Exit. \n",
      "\n"
     ]
    },
    {
     "name": "stdin",
     "output_type": "stream",
     "text": [
      "Please enter a number corresponding to your choice: \n",
      " 2\n",
      "Enter a valid email:  baraa@gmail.com\n"
     ]
    },
    {
     "name": "stdout",
     "output_type": "stream",
     "text": [
      "Email has been updated.\n",
      "csv saved successfully.\n",
      "\n",
      "What would you like to do?\n",
      "1-Display my information.\n",
      "2-Update my email.\n",
      "3-Exit. \n",
      "\n"
     ]
    },
    {
     "name": "stdin",
     "output_type": "stream",
     "text": [
      "Please enter a number corresponding to your choice: \n",
      " 1\n"
     ]
    },
    {
     "name": "stdout",
     "output_type": "stream",
     "text": [
      "ID: 13 \n",
      "Name: Baraa \n",
      "Email: baraa@gmail.com\n",
      "Position: DS \n",
      "Salary: 94K \n",
      "\n",
      "\n",
      "What would you like to do?\n",
      "1-Display my information.\n",
      "2-Update my email.\n",
      "3-Exit. \n",
      "\n"
     ]
    },
    {
     "name": "stdin",
     "output_type": "stream",
     "text": [
      "Please enter a number corresponding to your choice: \n",
      " 3\n"
     ]
    }
   ],
   "source": [
    "emp2=Employee(12,'Baraa','DS',94,'baraaabusallout@gmail.com')"
   ]
  },
  {
   "cell_type": "code",
   "execution_count": 181,
   "id": "ac3ab526-1fde-4c21-ad58-b3a14bdba99f",
   "metadata": {},
   "outputs": [
    {
     "name": "stdout",
     "output_type": "stream",
     "text": [
      "csv saved successfully.\n",
      "\n",
      "What would you like to do?\n",
      "1-Display my information.\n",
      "2-Update my email.\n",
      "3-Exit. \n",
      "\n"
     ]
    },
    {
     "name": "stdin",
     "output_type": "stream",
     "text": [
      "Please enter a number corresponding to your choice: \n",
      " 3\n"
     ]
    }
   ],
   "source": [
    "emp3=Employee(8,'Ahmed','SWE',122000,'ahmed@gmail.com')"
   ]
  },
  {
   "cell_type": "code",
   "execution_count": 183,
   "id": "4f779abe-1c5b-4ffc-8bb4-29ca88b1f9b5",
   "metadata": {},
   "outputs": [
    {
     "name": "stdout",
     "output_type": "stream",
     "text": [
      "csv saved successfully.\n",
      "\n",
      "What would you like to do?\n",
      "1-Display my information.\n",
      "2-Update my email.\n",
      "3-Exit. \n",
      "\n"
     ]
    },
    {
     "name": "stdin",
     "output_type": "stream",
     "text": [
      "Please enter a number corresponding to your choice: \n",
      " 3\n"
     ]
    }
   ],
   "source": [
    "emp4=Employee(2,'Sarah','ML','140k','sarah@gmail.com')"
   ]
  },
  {
   "cell_type": "code",
   "execution_count": 185,
   "id": "274fde91-650a-47d6-9fbd-f3b363928b07",
   "metadata": {},
   "outputs": [
    {
     "name": "stdout",
     "output_type": "stream",
     "text": [
      "ID is invalid. \n"
     ]
    },
    {
     "name": "stdin",
     "output_type": "stream",
     "text": [
      "Please enter a valid ID:  hkgv\n"
     ]
    },
    {
     "name": "stdout",
     "output_type": "stream",
     "text": [
      "ID is invalid. \n"
     ]
    },
    {
     "name": "stdin",
     "output_type": "stream",
     "text": [
      "Please enter a valid ID:  john\n"
     ]
    },
    {
     "name": "stdout",
     "output_type": "stream",
     "text": [
      "ID is invalid. \n"
     ]
    },
    {
     "name": "stdin",
     "output_type": "stream",
     "text": [
      "Please enter a valid ID:  1\n",
      "Please enter a valid name:  917\n",
      "Please enter a valid name:  Mina\n"
     ]
    },
    {
     "name": "stdout",
     "output_type": "stream",
     "text": [
      "Please enter string format input.\n"
     ]
    },
    {
     "name": "stdin",
     "output_type": "stream",
     "text": [
      "Please enter a valid position:  ceo\n"
     ]
    },
    {
     "name": "stdout",
     "output_type": "stream",
     "text": [
      "Please enter standard numeric values or numeric values ending with 'k' only.\n"
     ]
    },
    {
     "name": "stdin",
     "output_type": "stream",
     "text": [
      "Please enter a valid salary:  yigv\n"
     ]
    },
    {
     "name": "stdout",
     "output_type": "stream",
     "text": [
      "Please enter standard numeric values or numeric values ending with 'k' only.\n"
     ]
    },
    {
     "name": "stdin",
     "output_type": "stream",
     "text": [
      "Please enter a valid salary:  205\n"
     ]
    },
    {
     "name": "stdout",
     "output_type": "stream",
     "text": [
      "Please enter string format input.\n"
     ]
    },
    {
     "name": "stdin",
     "output_type": "stream",
     "text": [
      "Please enter a valid email:  mina@g\n"
     ]
    },
    {
     "name": "stdout",
     "output_type": "stream",
     "text": [
      "Email is not valid, try again.\n"
     ]
    },
    {
     "name": "stdin",
     "output_type": "stream",
     "text": [
      "Please enter a valid email:  mina@gmail.com\n"
     ]
    },
    {
     "name": "stdout",
     "output_type": "stream",
     "text": [
      "csv saved successfully.\n",
      "\n",
      "What would you like to do?\n",
      "1-Display my information.\n",
      "2-Update my email.\n",
      "3-Exit. \n",
      "\n"
     ]
    },
    {
     "name": "stdin",
     "output_type": "stream",
     "text": [
      "Please enter a number corresponding to your choice: \n",
      " 1\n"
     ]
    },
    {
     "name": "stdout",
     "output_type": "stream",
     "text": [
      "ID: 1 \n",
      "Name: Mina \n",
      "Email: mina@gmail.com\n",
      "Position: CEO \n",
      "Salary: 205K \n",
      "\n",
      "\n",
      "What would you like to do?\n",
      "1-Display my information.\n",
      "2-Update my email.\n",
      "3-Exit. \n",
      "\n"
     ]
    },
    {
     "name": "stdin",
     "output_type": "stream",
     "text": [
      "Please enter a number corresponding to your choice: \n",
      " 3\n"
     ]
    }
   ],
   "source": [
    "emp5=Employee('',34,41,'k31',6)"
   ]
  },
  {
   "cell_type": "code",
   "execution_count": 187,
   "id": "8c31fa35-3e38-4b10-a3de-07bef02aad7b",
   "metadata": {},
   "outputs": [
    {
     "name": "stdout",
     "output_type": "stream",
     "text": [
      "\n",
      "What would you like to do?\n",
      "1-Add an employee.\n",
      "2-Delete an employee.\n",
      "3-List all employees.\n",
      "4-Search for an employee.\n",
      "5-Update an employee.\n",
      "6-Save data to csv file.\n",
      "7-Load from csv file.\n",
      "8-Exist.\n",
      "\n"
     ]
    },
    {
     "name": "stdin",
     "output_type": "stream",
     "text": [
      "Please enter a number corresponding to your choice: \n",
      " 3\n"
     ]
    },
    {
     "name": "stdout",
     "output_type": "stream",
     "text": [
      "['John', 'Baraa', 'Ahmed', 'Sarah', 'Mina']\n",
      "[12, 13, 8, 2, 1]\n",
      "['34K', '94K', 122000, '140k', '205K']\n",
      "['john123@gmail.com', 'baraa@gmail.com', 'ahmed@gmail.com', 'sarah@gmail.com', 'mina@gmail.com']\n",
      "['HR', 'DS', 'SWE', 'ML', 'CEO']\n",
      "\n",
      "What would you like to do?\n",
      "1-Add an employee.\n",
      "2-Delete an employee.\n",
      "3-List all employees.\n",
      "4-Search for an employee.\n",
      "5-Update an employee.\n",
      "6-Save data to csv file.\n",
      "7-Load from csv file.\n",
      "8-Exist.\n",
      "\n"
     ]
    },
    {
     "name": "stdin",
     "output_type": "stream",
     "text": [
      "Please enter a number corresponding to your choice: \n",
      " 2\n",
      "Please enter the ID of the employee you would like to delete:  2\n"
     ]
    },
    {
     "name": "stdout",
     "output_type": "stream",
     "text": [
      "Employee deleted successfully, saving...\n",
      "csv saved successfully.\n",
      "\n",
      "What would you like to do?\n",
      "1-Add an employee.\n",
      "2-Delete an employee.\n",
      "3-List all employees.\n",
      "4-Search for an employee.\n",
      "5-Update an employee.\n",
      "6-Save data to csv file.\n",
      "7-Load from csv file.\n",
      "8-Exist.\n",
      "\n"
     ]
    },
    {
     "name": "stdin",
     "output_type": "stream",
     "text": [
      "Please enter a number corresponding to your choice: \n",
      " 3\n"
     ]
    },
    {
     "name": "stdout",
     "output_type": "stream",
     "text": [
      "['John', 'Baraa', 'Ahmed', 'Mina']\n",
      "[12, 13, 8, 1]\n",
      "['34K', '94K', 122000, '205K']\n",
      "['john123@gmail.com', 'baraa@gmail.com', 'ahmed@gmail.com', 'mina@gmail.com']\n",
      "['HR', 'DS', 'SWE', 'CEO']\n",
      "\n",
      "What would you like to do?\n",
      "1-Add an employee.\n",
      "2-Delete an employee.\n",
      "3-List all employees.\n",
      "4-Search for an employee.\n",
      "5-Update an employee.\n",
      "6-Save data to csv file.\n",
      "7-Load from csv file.\n",
      "8-Exist.\n",
      "\n"
     ]
    },
    {
     "name": "stdin",
     "output_type": "stream",
     "text": [
      "Please enter a number corresponding to your choice: \n",
      " 4\n",
      "Please enter the ID of the employee you would like to search for:  1\n"
     ]
    },
    {
     "name": "stdout",
     "output_type": "stream",
     "text": [
      "Name: Mina\n",
      "ID: 1\n",
      "Salary: 205K\n",
      "Email: mina@gmail.com\n",
      "Position: CEO\n",
      "\n",
      "What would you like to do?\n",
      "1-Add an employee.\n",
      "2-Delete an employee.\n",
      "3-List all employees.\n",
      "4-Search for an employee.\n",
      "5-Update an employee.\n",
      "6-Save data to csv file.\n",
      "7-Load from csv file.\n",
      "8-Exist.\n",
      "\n"
     ]
    },
    {
     "name": "stdin",
     "output_type": "stream",
     "text": [
      "Please enter a number corresponding to your choice: \n",
      " 5\n",
      "In order to update employees information, please enter an existing ID:  1\n",
      "Please enter type the required fields to update. seperated by a comma or a space. salary\n",
      "Enter a valid salary:  250\n"
     ]
    },
    {
     "name": "stdout",
     "output_type": "stream",
     "text": [
      "Salary updated successfully.\n",
      "csv saved successfully.\n",
      "\n",
      "What would you like to do?\n",
      "1-Add an employee.\n",
      "2-Delete an employee.\n",
      "3-List all employees.\n",
      "4-Search for an employee.\n",
      "5-Update an employee.\n",
      "6-Save data to csv file.\n",
      "7-Load from csv file.\n",
      "8-Exist.\n",
      "\n"
     ]
    },
    {
     "name": "stdin",
     "output_type": "stream",
     "text": [
      "Please enter a number corresponding to your choice: \n",
      " 3\n"
     ]
    },
    {
     "name": "stdout",
     "output_type": "stream",
     "text": [
      "['John', 'Baraa', 'Ahmed', 'Mina']\n",
      "[12, 13, 8, 1]\n",
      "['34K', '94K', 122000, '250K']\n",
      "['john123@gmail.com', 'baraa@gmail.com', 'ahmed@gmail.com', 'mina@gmail.com']\n",
      "['HR', 'DS', 'SWE', 'CEO']\n",
      "\n",
      "What would you like to do?\n",
      "1-Add an employee.\n",
      "2-Delete an employee.\n",
      "3-List all employees.\n",
      "4-Search for an employee.\n",
      "5-Update an employee.\n",
      "6-Save data to csv file.\n",
      "7-Load from csv file.\n",
      "8-Exist.\n",
      "\n"
     ]
    },
    {
     "name": "stdin",
     "output_type": "stream",
     "text": [
      "Please enter a number corresponding to your choice: \n",
      " 1\n"
     ]
    },
    {
     "name": "stdout",
     "output_type": "stream",
     "text": [
      "Please enter ID, Name, Position, Salary and Email for the employee.\n"
     ]
    },
    {
     "name": "stdin",
     "output_type": "stream",
     "text": [
      "ID:  2\n",
      "Name:  Sarah\n",
      "Position:  SWE\n",
      "Salary:  122\n",
      "Email:  sarah2@gmail.com\n"
     ]
    },
    {
     "name": "stdout",
     "output_type": "stream",
     "text": [
      "csv saved successfully.\n",
      "\n",
      "What would you like to do?\n",
      "1-Display my information.\n",
      "2-Update my email.\n",
      "3-Exit. \n",
      "\n"
     ]
    },
    {
     "name": "stdin",
     "output_type": "stream",
     "text": [
      "Please enter a number corresponding to your choice: \n",
      " 3\n"
     ]
    },
    {
     "name": "stdout",
     "output_type": "stream",
     "text": [
      "Employee added successfully, saving...\n",
      "csv saved successfully.\n",
      "\n",
      "What would you like to do?\n",
      "1-Add an employee.\n",
      "2-Delete an employee.\n",
      "3-List all employees.\n",
      "4-Search for an employee.\n",
      "5-Update an employee.\n",
      "6-Save data to csv file.\n",
      "7-Load from csv file.\n",
      "8-Exist.\n",
      "\n"
     ]
    },
    {
     "name": "stdin",
     "output_type": "stream",
     "text": [
      "Please enter a number corresponding to your choice: \n",
      " 3\n"
     ]
    },
    {
     "name": "stdout",
     "output_type": "stream",
     "text": [
      "['John', 'Baraa', 'Ahmed', 'Mina', 'Sarah']\n",
      "[12, 13, 8, 1, 2]\n",
      "['34K', '94K', 122000, '250K', '122K']\n",
      "['john123@gmail.com', 'baraa@gmail.com', 'ahmed@gmail.com', 'mina@gmail.com', 'sarah2@gmail.com']\n",
      "['HR', 'DS', 'SWE', 'CEO', 'SWE']\n",
      "\n",
      "What would you like to do?\n",
      "1-Add an employee.\n",
      "2-Delete an employee.\n",
      "3-List all employees.\n",
      "4-Search for an employee.\n",
      "5-Update an employee.\n",
      "6-Save data to csv file.\n",
      "7-Load from csv file.\n",
      "8-Exist.\n",
      "\n"
     ]
    },
    {
     "name": "stdin",
     "output_type": "stream",
     "text": [
      "Please enter a number corresponding to your choice: \n",
      " 4\n",
      "Please enter the ID of the employee you would like to search for:  2\n"
     ]
    },
    {
     "name": "stdout",
     "output_type": "stream",
     "text": [
      "Name: Sarah\n",
      "ID: 2\n",
      "Salary: 122K\n",
      "Email: sarah2@gmail.com\n",
      "Position: SWE\n",
      "\n",
      "What would you like to do?\n",
      "1-Add an employee.\n",
      "2-Delete an employee.\n",
      "3-List all employees.\n",
      "4-Search for an employee.\n",
      "5-Update an employee.\n",
      "6-Save data to csv file.\n",
      "7-Load from csv file.\n",
      "8-Exist.\n",
      "\n"
     ]
    },
    {
     "name": "stdin",
     "output_type": "stream",
     "text": [
      "Please enter a number corresponding to your choice: \n",
      " 8\n"
     ]
    }
   ],
   "source": [
    "empmang=EmployeeManager()"
   ]
  }
 ],
 "metadata": {
  "kernelspec": {
   "display_name": "Python 3 (ipykernel)",
   "language": "python",
   "name": "python3"
  },
  "language_info": {
   "codemirror_mode": {
    "name": "ipython",
    "version": 3
   },
   "file_extension": ".py",
   "mimetype": "text/x-python",
   "name": "python",
   "nbconvert_exporter": "python",
   "pygments_lexer": "ipython3",
   "version": "3.12.4"
  }
 },
 "nbformat": 4,
 "nbformat_minor": 5
}
